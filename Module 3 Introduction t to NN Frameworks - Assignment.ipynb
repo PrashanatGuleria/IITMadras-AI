{
 "cells": [
  {
   "cell_type": "code",
   "execution_count": 3,
   "id": "7fbdcdb4",
   "metadata": {},
   "outputs": [],
   "source": [
    "import numpy as np\n",
    "import tensorflow as tf\n",
    "from tensorflow.keras.datasets import mnist\n",
    "from tensorflow.keras.models import Sequential\n",
    "from tensorflow.keras.layers import Dense, Flatten\n",
    "from sklearn.model_selection import GridSearchCV\n",
    "from sklearn.base import BaseEstimator\n"
   ]
  },
  {
   "cell_type": "code",
   "execution_count": 4,
   "id": "4b6d1bd4",
   "metadata": {},
   "outputs": [],
   "source": [
    "# Load MNIST dataset\n",
    "(X_train, y_train), (X_test, y_test) = mnist.load_data()"
   ]
  },
  {
   "cell_type": "code",
   "execution_count": 5,
   "id": "be1dcf93",
   "metadata": {},
   "outputs": [],
   "source": [
    "# Normalize pixel values\n",
    "X_train, X_test = X_train / 255.0, X_test / 255.0"
   ]
  },
  {
   "cell_type": "code",
   "execution_count": 6,
   "id": "d787076f",
   "metadata": {},
   "outputs": [],
   "source": [
    "# Define the Keras model\n",
    "def create_model(units=128, activation='relu'):\n",
    "    model = Sequential([\n",
    "        Flatten(input_shape=(28, 28)),\n",
    "        Dense(units, activation=activation),\n",
    "        Dense(10, activation='softmax')\n",
    "    ])\n",
    "    model.compile(optimizer='adam', loss='sparse_categorical_crossentropy', metrics=['accuracy'])\n",
    "    return model"
   ]
  },
  {
   "cell_type": "code",
   "execution_count": 7,
   "id": "aca8401f",
   "metadata": {},
   "outputs": [],
   "source": [
    "# Define a custom wrapper class for Keras model\n",
    "class KerasClassifierWrapper(BaseEstimator):\n",
    "    def __init__(self, units=128, activation='relu'):\n",
    "        self.units = units\n",
    "        self.activation = activation\n",
    "\n",
    "    def fit(self, X, y):\n",
    "        self.model = create_model(self.units, self.activation)\n",
    "        self.model.fit(X, y, epochs=5, verbose=0)\n",
    "        return self\n",
    "\n",
    "    def predict(self, X):\n",
    "        return np.argmax(self.model.predict(X), axis=-1)\n",
    "\n",
    "    def score(self, X, y):\n",
    "        _, accuracy = self.model.evaluate(X, y, verbose=0)\n",
    "        return accuracy"
   ]
  },
  {
   "cell_type": "code",
   "execution_count": 8,
   "id": "498bdf9b",
   "metadata": {},
   "outputs": [],
   "source": [
    "# Define hyperparameters for tuning\n",
    "param_grid = {\n",
    "    'units': [64, 128, 256],\n",
    "    'activation': ['relu', 'sigmoid']\n",
    "}\n"
   ]
  },
  {
   "cell_type": "code",
   "execution_count": 9,
   "id": "cdf6c540",
   "metadata": {},
   "outputs": [],
   "source": [
    "# Create a GridSearchCV object\n",
    "grid = GridSearchCV(estimator=KerasClassifierWrapper(), param_grid=param_grid, cv=3)"
   ]
  },
  {
   "cell_type": "code",
   "execution_count": 10,
   "id": "298a67a9",
   "metadata": {},
   "outputs": [],
   "source": [
    "# Perform grid search\n",
    "grid_result = grid.fit(X_train, y_train)"
   ]
  },
  {
   "cell_type": "code",
   "execution_count": 11,
   "id": "80b44af6",
   "metadata": {},
   "outputs": [
    {
     "name": "stdout",
     "output_type": "stream",
     "text": [
      "Best: 0.971900 using {'activation': 'relu', 'units': 256}\n",
      "0.963367 (0.001635) with: {'activation': 'relu', 'units': 64}\n",
      "0.970283 (0.001752) with: {'activation': 'relu', 'units': 128}\n",
      "0.971900 (0.002885) with: {'activation': 'relu', 'units': 256}\n",
      "0.951817 (0.002522) with: {'activation': 'sigmoid', 'units': 64}\n",
      "0.958650 (0.001331) with: {'activation': 'sigmoid', 'units': 128}\n",
      "0.963050 (0.000147) with: {'activation': 'sigmoid', 'units': 256}\n"
     ]
    }
   ],
   "source": [
    "# Summarize results\n",
    "print(\"Best: %f using %s\" % (grid_result.best_score_, grid_result.best_params_))\n",
    "means = grid_result.cv_results_['mean_test_score']\n",
    "stds = grid_result.cv_results_['std_test_score']\n",
    "params = grid_result.cv_results_['params']\n",
    "for mean, stdev, param in zip(means, stds, params):\n",
    "    print(\"%f (%f) with: %r\" % (mean, stdev, param))"
   ]
  },
  {
   "cell_type": "code",
   "execution_count": null,
   "id": "d0a17d4e",
   "metadata": {},
   "outputs": [],
   "source": []
  }
 ],
 "metadata": {
  "kernelspec": {
   "display_name": "Python 3 (ipykernel)",
   "language": "python",
   "name": "python3"
  },
  "language_info": {
   "codemirror_mode": {
    "name": "ipython",
    "version": 3
   },
   "file_extension": ".py",
   "mimetype": "text/x-python",
   "name": "python",
   "nbconvert_exporter": "python",
   "pygments_lexer": "ipython3",
   "version": "3.11.5"
  }
 },
 "nbformat": 4,
 "nbformat_minor": 5
}
