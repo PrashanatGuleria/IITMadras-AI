{
 "cells": [
  {
   "cell_type": "code",
   "execution_count": 40,
   "id": "5a9c8d9f",
   "metadata": {},
   "outputs": [],
   "source": [
    "# Imports necessary libraries\n",
    "import numpy as np\n",
    "import matplotlib.pyplot as plt\n",
    "from keras.models import Sequential\n",
    "from keras.layers import Dense"
   ]
  },
  {
   "cell_type": "code",
   "execution_count": 34,
   "id": "3db40ece",
   "metadata": {},
   "outputs": [],
   "source": [
    "# Sample Data\n",
    "X = np.array([[3, 2]])\n",
    "y_actual = np.array([17])\n"
   ]
  },
  {
   "cell_type": "code",
   "execution_count": 35,
   "id": "78c3fec9",
   "metadata": {},
   "outputs": [
    {
     "name": "stdout",
     "output_type": "stream",
     "text": [
      "WARNING:tensorflow:From C:\\Users\\Prashant\\AppData\\Roaming\\Python\\Python311\\site-packages\\keras\\src\\backend.py:873: The name tf.get_default_graph is deprecated. Please use tf.compat.v1.get_default_graph instead.\n",
      "\n"
     ]
    }
   ],
   "source": [
    "# Define Neural Network Model\n",
    "model = Sequential()\n",
    "model.add(Dense(units=1, input_dim=2, activation='linear'))\n"
   ]
  },
  {
   "cell_type": "code",
   "execution_count": 36,
   "id": "d48366b0",
   "metadata": {},
   "outputs": [
    {
     "name": "stdout",
     "output_type": "stream",
     "text": [
      "WARNING:tensorflow:From C:\\Users\\Prashant\\AppData\\Roaming\\Python\\Python311\\site-packages\\keras\\src\\optimizers\\__init__.py:309: The name tf.train.Optimizer is deprecated. Please use tf.compat.v1.train.Optimizer instead.\n",
      "\n"
     ]
    }
   ],
   "source": [
    "# Compile the Model\n",
    "model.compile(optimizer='sgd', loss='mean_squared_error')"
   ]
  },
  {
   "cell_type": "code",
   "execution_count": 23,
   "id": "8f2a7190",
   "metadata": {},
   "outputs": [],
   "source": [
    "# Initialize Neural Network\n",
    "model = NeuralNetwork()\n"
   ]
  },
  {
   "cell_type": "code",
   "execution_count": 37,
   "id": "2a48d1ce",
   "metadata": {},
   "outputs": [
    {
     "name": "stdout",
     "output_type": "stream",
     "text": [
      "Epoch 1/20\n",
      "WARNING:tensorflow:From C:\\Users\\Prashant\\AppData\\Roaming\\Python\\Python311\\site-packages\\keras\\src\\utils\\tf_utils.py:492: The name tf.ragged.RaggedTensorValue is deprecated. Please use tf.compat.v1.ragged.RaggedTensorValue instead.\n",
      "\n",
      "1/1 [==============================] - 1s 626ms/step - loss: 288.5513\n",
      "Epoch 2/20\n",
      "1/1 [==============================] - 0s 8ms/step - loss: 149.5850\n",
      "Epoch 3/20\n",
      "1/1 [==============================] - 0s 7ms/step - loss: 77.5449\n",
      "Epoch 4/20\n",
      "1/1 [==============================] - 0s 7ms/step - loss: 40.1993\n",
      "Epoch 5/20\n",
      "1/1 [==============================] - 0s 8ms/step - loss: 20.8393\n",
      "Epoch 6/20\n",
      "1/1 [==============================] - 0s 7ms/step - loss: 10.8031\n",
      "Epoch 7/20\n",
      "1/1 [==============================] - 0s 7ms/step - loss: 5.6003\n",
      "Epoch 8/20\n",
      "1/1 [==============================] - 0s 6ms/step - loss: 2.9032\n",
      "Epoch 9/20\n",
      "1/1 [==============================] - 0s 7ms/step - loss: 1.5050\n",
      "Epoch 10/20\n",
      "1/1 [==============================] - 0s 6ms/step - loss: 0.7802\n",
      "Epoch 11/20\n",
      "1/1 [==============================] - 0s 6ms/step - loss: 0.4045\n",
      "Epoch 12/20\n",
      "1/1 [==============================] - 0s 7ms/step - loss: 0.2097\n",
      "Epoch 13/20\n",
      "1/1 [==============================] - 0s 7ms/step - loss: 0.1087\n",
      "Epoch 14/20\n",
      "1/1 [==============================] - 0s 8ms/step - loss: 0.0563\n",
      "Epoch 15/20\n",
      "1/1 [==============================] - 0s 6ms/step - loss: 0.0292\n",
      "Epoch 16/20\n",
      "1/1 [==============================] - 0s 7ms/step - loss: 0.0151\n",
      "Epoch 17/20\n",
      "1/1 [==============================] - 0s 7ms/step - loss: 0.0078\n",
      "Epoch 18/20\n",
      "1/1 [==============================] - 0s 7ms/step - loss: 0.0041\n",
      "Epoch 19/20\n",
      "1/1 [==============================] - 0s 9ms/step - loss: 0.0021\n",
      "Epoch 20/20\n",
      "1/1 [==============================] - 0s 6ms/step - loss: 0.0011\n"
     ]
    }
   ],
   "source": [
    "# Train the Model\n",
    "history = model.fit(X, y_actual, epochs=20, verbose=1)\n"
   ]
  },
  {
   "cell_type": "code",
   "execution_count": 38,
   "id": "87c62ad1",
   "metadata": {},
   "outputs": [
    {
     "name": "stdout",
     "output_type": "stream",
     "text": [
      "1/1 [==============================] - 0s 117ms/step\n",
      "Predicted Output: 16.976189\n"
     ]
    }
   ],
   "source": [
    "# Predict using the trained model\n",
    "y_pred = model.predict(X)\n",
    "print(\"Predicted Output:\", y_pred[0][0])\n"
   ]
  },
  {
   "cell_type": "code",
   "execution_count": 39,
   "id": "c0ce2a25",
   "metadata": {},
   "outputs": [
    {
     "data": {
      "image/png": "[encoded data removed]",
      "text/plain": [
       "<Figure size 640x480 with 1 Axes>"
      ]
     },
     "metadata": {},
     "output_type": "display_data"
    }
   ],
   "source": [
    "# Plot Error Progression\n",
    "plt.plot(history.history['loss'])\n",
    "plt.title('Error Progression Across Epochs')\n",
    "plt.xlabel('Epochs')\n",
    "plt.ylabel('Error')\n",
    "plt.grid(True)\n",
    "plt.show()"
   ]
  },
  {
   "cell_type": "code",
   "execution_count": null,
   "id": "0b098ac7",
   "metadata": {},
   "outputs": [],
   "source": []
  },
  {
   "cell_type": "code",
   "execution_count": null,
   "id": "f5d0e923",
   "metadata": {},
   "outputs": [],
   "source": []
  },
  {
   "cell_type": "code",
   "execution_count": null,
   "id": "5bb4aa7b",
   "metadata": {},
   "outputs": [],
   "source": []
  }
 ],
 "metadata": {
  "kernelspec": {
   "display_name": "Python 3 (ipykernel)",
   "language": "python",
   "name": "python3"
  },
  "language_info": {
   "codemirror_mode": {
    "name": "ipython",
    "version": 3
   },
   "file_extension": ".py",
   "mimetype": "text/x-python",
   "name": "python",
   "nbconvert_exporter": "python",
   "pygments_lexer": "ipython3",
   "version": "3.11.5"
  }
 },
 "nbformat": 4,
 "nbformat_minor": 5
}
