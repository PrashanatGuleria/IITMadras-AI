{
 "cells": [
  {
   "cell_type": "markdown",
   "id": "ffceea70",
   "metadata": {},
   "source": [
    "Que 1. Which industries commonly use Deep Learning for image recognition applications?\n",
    "\n",
    "Ans\n",
    "-d. All of the above"
   ]
  },
  {
   "cell_type": "markdown",
   "id": "700b6c3b",
   "metadata": {},
   "source": [
    "Deep learning for image recognition applications is widely used across various industries, including healthcare, manufacturing, and retail. In healthcare, it can be utilized for medical image analysis; in manufacturing, for quality control and defect detection; and in retail, for tasks like object recognition and customer behavior analysis. The versatility of deep learning makes it applicable to a broad range of industries for image-related applications"
   ]
  },
  {
   "cell_type": "markdown",
   "id": "c7f23717",
   "metadata": {},
   "source": [
    "2. What distinguishes Deep Learning from traditional Machine Learning?\n",
    "\n",
    "Ans\n",
    "-i. a,d\n"
   ]
  },
  {
   "cell_type": "markdown",
   "id": "6ed9a9a5",
   "metadata": {},
   "source": [
    "The key distinctions between Deep Learning and traditional Machine Learning include the depth of neural networks (a), as deep learning specifically refers to neural networks with multiple layers (deep neural networks), and the volume of data processed (d), as deep learning models often require large amounts of data for training."
   ]
  },
  {
   "cell_type": "markdown",
   "id": "6b3d5241",
   "metadata": {},
   "source": [
    "3. Which metrics are commonly used to evaluate the performance of a classification\n",
    "model?\n",
    "Ans\n",
    "-c. F1 score"
   ]
  },
  {
   "cell_type": "markdown",
   "id": "5223f90e",
   "metadata": {},
   "source": [
    "The F1 score is a common metric used to evaluate the performance of a classification model. It takes into account both precision and recall, providing a balance between the two. Mean squared error (a), root mean squared error (b), and R-squared (d) are typically used for regression problems, not classification."
   ]
  },
  {
   "cell_type": "markdown",
   "id": "dbd26b2a",
   "metadata": {},
   "source": [
    "4. Which of the following are the key components of Deep Learning (DL)?\n",
    "\n",
    "Ans\n",
    "-b. Neural Networks"
   ]
  },
  {
   "cell_type": "markdown",
   "id": "04fe7c4e",
   "metadata": {},
   "source": [
    "5. What are the main challenges in training deep neural networks?\n",
    "Ans\n",
    "-a. Lack of labeled data"
   ]
  },
  {
   "cell_type": "markdown",
   "id": "1bca42e7",
   "metadata": {},
   "source": [
    "While overfitting (b) and underfitting (c) are common challenges in machine learning, the lack of labeled data (a) is a specific challenge in training deep neural networks. Deep learning models often require large amounts of labeled data for training to generalize well to new, unseen data. Insufficient labeled data can lead to poor model performance and generalization."
   ]
  },
  {
   "cell_type": "markdown",
   "id": "e0929fc0",
   "metadata": {},
   "source": [
    "6. Which technology is a subset of AI and focuses on training models to learn\n",
    "from data?\n",
    "Ans\n",
    "-b. Machine Learning"
   ]
  },
  {
   "cell_type": "markdown",
   "id": "c5ca1928",
   "metadata": {},
   "source": [
    "Machine Learning is a subset of Artificial Intelligence (AI) that focuses on training models to learn from data. Deep Learning (c) is a specific type of machine learning that involves neural networks with multiple layers. Data Science (d) is a broader field that includes various techniques for extracting insights and knowledge from data, and machine learning is one of the tools used in data science.\n",
    "\n",
    "\n",
    "\n",
    "\n",
    "\n"
   ]
  },
  {
   "cell_type": "markdown",
   "id": "43e621f9",
   "metadata": {},
   "source": [
    "7. In the context of Deep Learning, what is a neural network?\n",
    "Ans\n",
    "-b. A network of interconnected neurons"
   ]
  },
  {
   "cell_type": "markdown",
   "id": "cedcf94d",
   "metadata": {},
   "source": [
    "In the context of Deep Learning, a neural network is a computational model inspired by the structure and functioning of the human brain. It consists of interconnected nodes called neurons, organized into layers. The connections between neurons have associated weights, and the network learns by adjusting these weights based on the"
   ]
  },
  {
   "cell_type": "markdown",
   "id": "48f0cd4a",
   "metadata": {},
   "source": [
    "8. What is the role of hyperparameter tuning in the model evaluation phase?\n",
    "Ans \n",
    "-a. To adjust the learning rate"
   ]
  },
  {
   "cell_type": "markdown",
   "id": "759c3bfe",
   "metadata": {},
   "source": [
    "Hyperparameter tuning involves optimizing the hyperparameters of a machine learning model to improve its performance. The learning rate is one such hyperparameter that is often tuned during the model evaluation phase. It controls the step size during the optimization process and can significantly impact the convergence and performance of the model. The other options, optimizing model parameters for better performance (b), selecting features (c), and preprocessing the data (d), are more related to model training and data preparation"
   ]
  },
  {
   "cell_type": "markdown",
   "id": "9173186a",
   "metadata": {},
   "source": [
    "9. What is the primary goal during the project initiation phase of a Deep Learning\n",
    "project?\n",
    "Ans\n",
    "-b. Define the problem and scope"
   ]
  },
  {
   "cell_type": "markdown",
   "id": "374b359b",
   "metadata": {},
   "source": [
    "The primary goal during the project initiation phase of a Deep Learning project is to define the problem and scope of the project. This involves understanding the objectives, determining the specific task the model will address, and outlining the overall project goals. It lays the foundation for subsequent phases such as data collection, model training, and evaluation. While model training (a), hyperparameter tuning (c), and data collection (d) are crucial steps in a Deep Learning project, they typically come after the problem definition and scope clarification."
   ]
  },
  {
   "cell_type": "markdown",
   "id": "bc3d84e3",
   "metadata": {},
   "source": [
    "10. Why is continuous monitoring important in the life cycle of a deployed Deep\n",
    "Learning model?\n",
    "Ans \n",
    "-b. To ensure the model adapts to changing data patterns\n"
   ]
  },
  {
   "cell_type": "markdown",
   "id": "ab26ebc0",
   "metadata": {},
   "source": [
    "Continuous monitoring is important in the life cycle of a deployed Deep Learning model to ensure that the model adapts to changing data patterns. Over time, the distribution of the input data may change, and continuous monitoring allows the model to be updated or retrained as needed to maintain its performance. This helps in addressing issues like concept drift, where the relationships within the data change over time. Options (a), (c), and (d) do not accurately reflect the primary purpose of continuous monitoring in a deployed model's life cycle."
   ]
  },
  {
   "cell_type": "code",
   "execution_count": null,
   "id": "653cb8f4",
   "metadata": {},
   "outputs": [],
   "source": []
  }
 ],
 "metadata": {
  "kernelspec": {
   "display_name": "Python 3 (ipykernel)",
   "language": "python",
   "name": "python3"
  },
  "language_info": {
   "codemirror_mode": {
    "name": "ipython",
    "version": 3
   },
   "file_extension": ".py",
   "mimetype": "text/x-python",
   "name": "python",
   "nbconvert_exporter": "python",
   "pygments_lexer": "ipython3",
   "version": "3.11.5"
  }
 },
 "nbformat": 4,
 "nbformat_minor": 5
}
